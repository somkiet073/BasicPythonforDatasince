{
 "metadata": {
  "language_info": {
   "codemirror_mode": {
    "name": "ipython",
    "version": 3
   },
   "file_extension": ".py",
   "mimetype": "text/x-python",
   "name": "python",
   "nbconvert_exporter": "python",
   "pygments_lexer": "ipython3",
   "version": "3.8.2-final"
  },
  "orig_nbformat": 2,
  "kernelspec": {
   "name": "python3",
   "display_name": "Python 3"
  }
 },
 "nbformat": 4,
 "nbformat_minor": 2,
 "cells": [
  {
   "cell_type": "code",
   "execution_count": 1,
   "metadata": {},
   "outputs": [],
   "source": [
    "# comment\n",
    "# การ comment หรือยกเว้น ไม่ให้บรรทัดนั้นทำงาน สามารถทำได้ 2 วิธีดังนี้\n",
    "# 1.comment บรรทัดเดียวทำได้โดย ใส่เครื่องหมาย # หน้าคำสั่งที่ไม่อยากให้ทำงาน\n",
    "# 2.comment หลายบรรทัดทำได้โดย ใส่เครื่องหมายฟันหนูเดียว ครอบไว้  ''' ...... '''"
   ]
  },
  {
   "cell_type": "code",
   "execution_count": 1,
   "metadata": {
    "tags": []
   },
   "outputs": [
    {
     "output_type": "stream",
     "name": "stdout",
     "text": "Hi, somkiet\n"
    }
   ],
   "source": [
    "name = 'somkiet'\n",
    "print(\"Hi,\" ,name)"
   ]
  },
  {
   "cell_type": "code",
   "execution_count": 2,
   "metadata": {
    "tags": []
   },
   "outputs": [
    {
     "output_type": "stream",
     "name": "stdout",
     "text": "Hi, somkiet\nHi, somkiet\n"
    }
   ],
   "source": [
    "print('Hi, %s' % format(name))\n",
    "print('Hi, %s' % name)"
   ]
  },
  {
   "cell_type": "code",
   "execution_count": 13,
   "metadata": {
    "tags": []
   },
   "outputs": [
    {
     "output_type": "stream",
     "name": "stdout",
     "text": "Hi, somkiet a =  2\nHi, somkiet a =  2 b =  2.45\n"
    }
   ],
   "source": [
    "a = 2\n",
    "b =  2.45\n",
    "name = 'somkiet'\n",
    "print('Hi,', name, 'a = ', a)\n",
    "print('Hi,', name, 'a = ', a, 'b = ', b)"
   ]
  },
  {
   "cell_type": "code",
   "execution_count": 17,
   "metadata": {
    "tags": []
   },
   "outputs": [
    {
     "output_type": "stream",
     "name": "stdout",
     "text": "Hi somkiet , a = 2 , b = 2.45 \nHi somkiet , a = 2 , b =   2.45 \n"
    }
   ],
   "source": [
    "# %s แทนข้อมูล String %d แทนจำนวนเต็ม (Integer) %f แทนเลขทศนิยม \n",
    "print('Hi %s , a = %d , b = %.2f ' % (name,a,b))    # %.2f คือ ทศนิยม 2 ตำแหน่ง\n",
    "print('Hi %s , a = %d , b = %6.2f ' % (name,a,b))    # %6.2f คือจองพื้นที่ 6 อักขระ"
   ]
  },
  {
   "cell_type": "code",
   "execution_count": 34,
   "metadata": {
    "tags": []
   },
   "outputs": [
    {
     "output_type": "stream",
     "name": "stdout",
     "text": "Hi, somkiet Pi = 3.141593 \n"
    }
   ],
   "source": [
    "import math     # เรียก lib เกี่ยวกับคณิตศาสตร์มาใช้\n",
    "print('Hi, %s Pi = %f ' % (name, math.pi))"
   ]
  },
  {
   "cell_type": "code",
   "execution_count": null,
   "metadata": {},
   "outputs": [],
   "source": []
  }
 ]
}