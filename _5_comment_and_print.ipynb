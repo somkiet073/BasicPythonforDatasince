{
 "metadata": {
  "language_info": {
   "codemirror_mode": {
    "name": "ipython",
    "version": 3
   },
   "file_extension": ".py",
   "mimetype": "text/x-python",
   "name": "python",
   "nbconvert_exporter": "python",
   "pygments_lexer": "ipython3",
   "version": 3
  },
  "orig_nbformat": 2
 },
 "nbformat": 4,
 "nbformat_minor": 2,
 "cells": [
  {
   "cell_type": "code",
   "execution_count": null,
   "metadata": {},
   "outputs": [],
   "source": [
    "# comment\n",
    "# การ comment หรือยกเว้น ไม่ให้บรรทัดนั้นทำงาน สามารถทำได้ 2 วิธีดังนี้\n",
    "# 1.comment บรรทัดเดียวทำได้โดย ใส่เครื่องหมาย # หน้าคำสั่งที่ไม่อยากให้ทำงาน\n",
    "# 2.comment หลายบรรทัดทำได้โดย ใส่เครื่องหมายฟันหนูเดียว ครอบไว้  ''' ...... '''"
   ]
  }
 ]
}