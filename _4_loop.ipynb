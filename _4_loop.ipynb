{
 "metadata": {
  "language_info": {
   "codemirror_mode": {
    "name": "ipython",
    "version": 3
   },
   "file_extension": ".py",
   "mimetype": "text/x-python",
   "name": "python",
   "nbconvert_exporter": "python",
   "pygments_lexer": "ipython3",
   "version": "3.8.2-final"
  },
  "orig_nbformat": 2,
  "kernelspec": {
   "name": "python3",
   "display_name": "Python 3"
  }
 },
 "nbformat": 4,
 "nbformat_minor": 2,
 "cells": [
  {
   "cell_type": "code",
   "execution_count": 1,
   "metadata": {
    "tags": []
   },
   "outputs": [
    {
     "output_type": "stream",
     "name": "stdout",
     "text": "รอบที่ : 0\nรอบที่ : 1\nรอบที่ : 2\nรอบที่ : 3\nรอบที่ : 4\ndone\n"
    }
   ],
   "source": [
    "# การวนรอบ (Loop)\n",
    "# การวนรอบ (Loop หรือ Iteration) ใช้ for หรือ while\n",
    "# 1. For ใช้สำหรับการวนรอบทำงาน โดยกำหนดจำนวนรอบ เช่น\n",
    "a=5\n",
    "for count in range(a):\n",
    "    print(f\"รอบที่ : {count}\")      # เว้น 1 Tab\n",
    "print(\"done\")"
   ]
  },
  {
   "cell_type": "code",
   "execution_count": 4,
   "metadata": {
    "tags": []
   },
   "outputs": [
    {
     "output_type": "stream",
     "name": "stdout",
     "text": "count: 5\ncount: 6\nend of loop naja\n"
    }
   ],
   "source": [
    "for count in range(5,7):        # ขึ้นต้นด้วย 5 จบด้วยค่าสุดท้ายก่อน 7\n",
    "    print(f\"count: {count}\")\n",
    "print('end of loop naja')"
   ]
  },
  {
   "cell_type": "code",
   "execution_count": 5,
   "metadata": {
    "tags": []
   },
   "outputs": [
    {
     "output_type": "stream",
     "name": "stdout",
     "text": "Hello while loop 0\nHello while loop 1\nHello while loop 2\n"
    }
   ],
   "source": [
    "# 2. While ทำการวนรอบค่าโดยตรวจสอบเงื่อนไข ถ้าผลการตรวจได้ค่า True ก็จะวนรอบต่อไป\n",
    "count = 0\n",
    "while count < 3:\n",
    "    print(f\"Hello while loop {count}\")\n",
    "    count = count + 1"
   ]
  },
  {
   "cell_type": "code",
   "execution_count": 6,
   "metadata": {},
   "outputs": [],
   "source": [
    "# บางโรแกรมต้องการ การทำงานแบบไม่รู้จบ ก็ให้ระบุเงื่อนไขเป็น True เช่น\n",
    "# while True:\n",
    "#     print(\"hello\")\n",
    "# print(\"End of Program\")"
   ]
  },
  {
   "cell_type": "code",
   "execution_count": null,
   "metadata": {},
   "outputs": [],
   "source": []
  }
 ]
}