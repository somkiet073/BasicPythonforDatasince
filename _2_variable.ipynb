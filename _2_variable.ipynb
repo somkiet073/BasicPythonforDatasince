{
 "cells": [
  {
   "cell_type": "code",
   "execution_count": 5,
   "metadata": {},
   "outputs": [
    {
     "name": "stdout",
     "output_type": "stream",
     "text": [
      "2\n",
      "somkiet\n"
     ]
    }
   ],
   "source": [
    "a = 2 # กำหนดให้ a มีค่าเท่ากับ 2 (ชนิดเลขจำนวนเต็ม Integer)\n",
    "temp = 23.5 # กำหนดให้ temp มีค่าเท่ากับ 23.5 (ชนิดเลขทศนิยม float)\n",
    "name = 'somkiet' # กำหนดให้ name มีค่าเท่ากับ \"somkiet\" (ชนิดข้อความ String)\n",
    "print(a) # พิมพ์แสดงผลข้อมูลใน a\n",
    "print(name) # พิมพ์แสดงผลข้อมูลใน name จะได้เอ้าต์พุตคือ 'somkiet'"
   ]
  },
  {
   "cell_type": "code",
   "execution_count": 2,
   "metadata": {},
   "outputs": [
    {
     "name": "stdout",
     "output_type": "stream",
     "text": [
      "2\n",
      "ab\n"
     ]
    }
   ],
   "source": [
    "# ชื่อตัวแปร Case-sensitive คือ อักษรตัวใหญ่ตัวเล็กถภือว่าเป็นคนละตัวกัน เช่น\n",
    "a = 2  # a และ A ถือว่าเป็นคนละตัวกัน\n",
    "A = 'ab'\n",
    "print(a)\n",
    "print(A)"
   ]
  },
  {
   "cell_type": "markdown",
   "metadata": {},
   "source": [
    "# การคำนวนพื้นฐาน\n",
    "\n",
    "#### + - * / บวก ลบ คูณ หาร ปกติ\n",
    "#### ** ยกกำลัง\n",
    "#### % หารเอาเศษเลือ เช่น 5%2 ได้ผลลัพธ์ ได้ผลลัพธ์ 1 (เศษเหลือ)\n",
    "#### // หารปัดเศษทิ้ง เช่น 5 // 2 ได้ผลลัพธ์ 2\n",
    "\n",
    "# ชนิดข้อมูล\n",
    "#### ชนิดข้อมูลพื้นฐานใน python ประกอบด้วย\n",
    "#### ข้อมูลตัวเลข จำนวนเต็ม (integer เช่น 2 5 7) จำนวนทศนิยม (float เช่น 2.5 0.8 3.0) และจำนวนจินตภาพ\n",
    "#### ข้อความ (String) เช่น 'somkiet' '2.5' ฯลฯ\n",
    "#### ข้อมูลชุด (Containers) ได้แก่ List, Dictionary, Tuple ซึ่งเป็นข้อมูลชุดที่มีหลายข้อมูลในตัวเดียวกัน คล้าย Array ของภาษาอื่น\n",
    "#### Boolean เป็นข้อมูลตรรก True และ False (อักษร T และ F ตัวใหญ่)\n",
    "\n",
    "# เงื่อนไขและการเปรียบเทียบ\n",
    "#### การเปรียบเทียบเงื่อนไข (Condition) ใช้เครื่องหมายดังต่อไปนี้\n",
    "#### >  มากกว่า   < น้อยกว่า\n",
    "#### >=  มากกว่าเท่ากับ  <= น้อยกว่าเท่ากับ\n",
    "#### !=  ไม่เท่ากับ \n",
    "#### ==  เท่ากับ\n",
    "\n",
    "#### การดำเนินการทางตรรก Boolean ใช้คำสั่ง and (และ) or (หรือ) not (ไม่) เช่น"
   ]
  },
  {
   "cell_type": "code",
   "execution_count": 8,
   "metadata": {},
   "outputs": [
    {
     "data": {
      "text/plain": [
       "True"
      ]
     },
     "execution_count": 8,
     "metadata": {},
     "output_type": "execute_result"
    }
   ],
   "source": [
    "a=5\n",
    "b=3\n",
    "c=8\n",
    "a>b and a>c # ได้ผลลัพธ์ False\n",
    "a>b or a>c # ได้ผลลัพธ์ True\n",
    "(a>b) or (a>c) # สามารถใช้วงเล็บได้ (ให้ผลลัพธ์เหมือนกับไม่ใช้วงเล็บ)"
   ]
  },
  {
   "cell_type": "code",
   "execution_count": null,
   "metadata": {},
   "outputs": [],
   "source": []
  }
 ],
 "metadata": {
  "kernelspec": {
   "display_name": "Python 3",
   "language": "python",
   "name": "python3"
  },
  "language_info": {
   "codemirror_mode": {
    "name": "ipython",
    "version": 3
   },
   "file_extension": ".py",
   "mimetype": "text/x-python",
   "name": "python",
   "nbconvert_exporter": "python",
   "pygments_lexer": "ipython3",
   "version": "3.8.2"
  }
 },
 "nbformat": 4,
 "nbformat_minor": 4
}
