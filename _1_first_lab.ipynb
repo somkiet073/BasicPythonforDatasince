{
 "cells": [
  {
   "cell_type": "code",
   "execution_count": 29,
   "metadata": {},
   "outputs": [
    {
     "name": "stdout",
     "output_type": "stream",
     "text": [
      "20\n"
     ]
    }
   ],
   "source": [
    "a=5\n",
    "b=a*4\n",
    "print(b)"
   ]
  },
  {
   "cell_type": "markdown",
   "metadata": {},
   "source": [
    "# พล็อตกราฟ ด้วย matplotlib \n",
    "## แสดงยอดขายรายเดือนของสินค้า"
   ]
  },
  {
   "cell_type": "code",
   "execution_count": 23,
   "metadata": {},
   "outputs": [
    {
     "data": {
      "text/plain": [
       "<BarContainer object of 5 artists>"
      ]
     },
     "execution_count": 23,
     "metadata": {},
     "output_type": "execute_result"
    },
    {
     "data": {
      "image/png": "[encoded data removed]",
      "text/plain": [
       "<Figure size 432x288 with 1 Axes>"
      ]
     },
     "metadata": {
      "needs_background": "light"
     },
     "output_type": "display_data"
    }
   ],
   "source": [
    "import matplotlib.pyplot as plt\n",
    "y=[3,2,4,3,4]\n",
    "x=['Jan','Feb','Mar','Apr','May']\n",
    "plt.bar(x,y)"
   ]
  },
  {
   "cell_type": "code",
   "execution_count": 24,
   "metadata": {},
   "outputs": [
    {
     "name": "stdout",
     "output_type": "stream",
     "text": [
      "60\n"
     ]
    }
   ],
   "source": [
    "a=15\n",
    "b=a*4\n",
    "print(b)"
   ]
  },
  {
   "cell_type": "code",
   "execution_count": 25,
   "metadata": {},
   "outputs": [],
   "source": [
    "name='somkiet'"
   ]
  },
  {
   "cell_type": "code",
   "execution_count": 26,
   "metadata": {},
   "outputs": [
    {
     "name": "stdout",
     "output_type": "stream",
     "text": [
      "somkiet 60\n"
     ]
    }
   ],
   "source": [
    "print(name, b)"
   ]
  },
  {
   "cell_type": "code",
   "execution_count": 27,
   "metadata": {},
   "outputs": [],
   "source": [
    "b=512\n",
    "plt.bar"
   ]
  },
  {
   "cell_type": "code",
   "execution_count": 3,
   "metadata": {},
   "outputs": [
    {
     "name": "stdout",
     "output_type": "stream",
     "text": [
      "Ipython version: 7.17.0 (need at least 1.0)\n",
      "jupyterlab version:  2.2.4 (need at least 0.35.x)\n",
      "Numpy version: 1.19.1 (need at least 1.7.1)\n",
      "xlrd version:  1.2.0 (need at least 1.0.0)\n",
      "Pandas version:  1.1.0 (need at least 0.23.0)\n",
      "Matplotlib version:  3.3.0 (need at least 1.2.1)\n"
     ]
    }
   ],
   "source": [
    "# import IPython\n",
    "import IPython\n",
    "print(\"Ipython version: %6.6s (need at least 1.0)\" %IPython.__version__)\n",
    "\n",
    "import jupyterlab\n",
    "print(\"jupyterlab version: %6.6s (need at least 0.35.x)\" %jupyterlab.__version__)\n",
    "\n",
    "# Numpy\n",
    "import numpy as np\n",
    "print(\"Numpy version: %6.6s (need at least 1.7.1)\" %np.__version__)\n",
    "\n",
    "# xlrd (Read excel)\n",
    "import xlrd\n",
    "print(\"xlrd version: %6.6s (need at least 1.0.0)\" %xlrd.__version__)\n",
    "\n",
    "# Pandas for data tables\n",
    "import pandas as pd\n",
    "print(\"Pandas version: %6.6s (need at least 0.23.0)\" %pd.__version__)\n",
    "\n",
    "# plotting\n",
    "import matplotlib\n",
    "print(\"Matplotlib version: %6.6s (need at least 1.2.1)\" %matplotlib.__version__)"
   ]
  },
  {
   "cell_type": "code",
   "execution_count": null,
   "metadata": {},
   "outputs": [],
   "source": []
  }
 ],
 "metadata": {
  "kernelspec": {
   "display_name": "Python 3",
   "language": "python",
   "name": "python3"
  },
  "language_info": {
   "codemirror_mode": {
    "name": "ipython",
    "version": 3
   },
   "file_extension": ".py",
   "mimetype": "text/x-python",
   "name": "python",
   "nbconvert_exporter": "python",
   "pygments_lexer": "ipython3",
   "version": "3.8.2-final"
  }
 },
 "nbformat": 4,
 "nbformat_minor": 4
}