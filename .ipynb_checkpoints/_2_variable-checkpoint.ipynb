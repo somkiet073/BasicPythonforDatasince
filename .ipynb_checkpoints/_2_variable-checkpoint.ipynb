{
 "cells": [
  {
   "cell_type": "code",
   "execution_count": null,
   "metadata": {},
   "outputs": [],
   "source": [
    "a = 2 # กำหนดให้ a มีค่าเท่ากับ 2 (ชนิดเลขจำนวนเต็ม Integer)\n",
    "temp = 23.5 # กำหนดให้ temp มีค่าเท่ากับ 23.5 (ชนิดเลขทศนิยม float)\n",
    "name = 'somkiet' # กำหนดให้ name มีค่าเท่ากับ \"somkiet\" (ชนิดข้อความ String)\n",
    "print(a) # พิมพ์แสดงผลข้อมูลใน a\n",
    "print(name)"
   ]
  }
 ],
 "metadata": {
  "kernelspec": {
   "display_name": "Python 3",
   "language": "python",
   "name": "python3"
  },
  "language_info": {
   "codemirror_mode": {
    "name": "ipython",
    "version": 3
   },
   "file_extension": ".py",
   "mimetype": "text/x-python",
   "name": "python",
   "nbconvert_exporter": "python",
   "pygments_lexer": "ipython3",
   "version": "3.8.2"
  }
 },
 "nbformat": 4,
 "nbformat_minor": 4
}
