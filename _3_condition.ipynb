{
 "cells": [
  {
   "cell_type": "code",
   "execution_count": 4,
   "metadata": {},
   "outputs": [
    {
     "name": "stdout",
     "output_type": "stream",
     "text": [
      "Discount 5%\n",
      "Done\n"
     ]
    }
   ],
   "source": [
    "# IF\n",
    "price = 110\n",
    "if price >= 100:\n",
    "    print('Discount 5%')\n",
    "print('Done')"
   ]
  },
  {
   "cell_type": "code",
   "execution_count": 2,
   "metadata": {
    "tags": []
   },
   "outputs": [
    {
     "output_type": "stream",
     "name": "stdout",
     "text": "Discount 2%\nBye\n"
    }
   ],
   "source": [
    "# กรณีตรวจสอบเงื่อนไขแล้วได้ผลเป็นเท็จ (False) ให้รันในส่วนของ else\n",
    "price = 90\n",
    "if price >= 100:\n",
    "    print('Discount 5%')    # รันเงื่อนไขในกรณี price มากกว่าหรือเท่ากับ 100\n",
    "else:\n",
    "    print('Discount 2%')    # รันเงื่อนไขในกรณี price น้อยกว่า 100\n",
    "print('Bye')"
   ]
  },
  {
   "cell_type": "code",
   "execution_count": 5,
   "metadata": {
    "tags": []
   },
   "outputs": [
    {
     "output_type": "stream",
     "name": "stdout",
     "text": "On Small Fan\n"
    }
   ],
   "source": [
    "# กรณีการตรวจสอบเงื่อนไขเป็นลำดับขั้น กล่าวคือตรวจสอบขั้นแรก (if) ก่อนหากพบว่าเป็นเท็จ (false) \n",
    "# ก็ตรวจสอบชั้นทัดไปด้วย elif (มาจาก else if)\n",
    "# ตัวอย่าง temp < 30 : Fan off, temp ตั้งแต่ 30 แต่ไม่ถึง 40 : On Small Fan, ถ้า temp ตั้งแต่ 40 ขึ้นไป : On Big Fan\n",
    "temp = 32\n",
    "if temp < 30:\n",
    "    print(\"Fan off\")\n",
    "elif temp >= 30 and temp < 40:\n",
    "    print(\"On Small Fan\")\n",
    "else:\n",
    "    print(\"On Big Fan\")"
   ]
  },
  {
   "cell_type": "code",
   "execution_count": 9,
   "metadata": {
    "tags": []
   },
   "outputs": [],
   "source": [
    "# การเว้นต้นบรรทัด (Indent)\n",
    "# หลักการเว้นต้นบรรทัด (Indent) จะแตกต่างจากภาษาอื่น \n",
    "# กล่าวคือโค้ดอยู่ในบล็อกเดียวกัน จะต้องเว้นให้เป็นแนวเดียวกัน มิฉะนั้นจะถือว่าผิดหลักภาษา ตัวอย่างเช่น\n",
    "\n",
    "# ตัวอย่างที่ผิด\n",
    "# a=5\n",
    "#    b=3\n",
    "# c=a+b\n",
    "# print(c)\n",
    "\n",
    "# ตัวอย่างที่ถูก\n",
    "a=5\n",
    "b=3\n",
    "c=a+b\n",
    "print(c)"
   ]
  },
  {
   "cell_type": "code",
   "execution_count": 15,
   "metadata": {
    "tags": []
   },
   "outputs": [
    {
     "output_type": "stream",
     "name": "stdout",
     "text": "On TV\na = 2 done\n"
    }
   ],
   "source": [
    "# กรณีโค้ดแบ่งเป็นบล็อกคำสั่ง \n",
    "# การแบ่งส่วนโค้ดเป็นบล็อกๆ ภายใต้ function, loop ของภาษาอื่นๆ \n",
    "# จะใช้เครื่องหมายครอบไว้พเื่อกำหนดขอบเขตของบล็อก {}\n",
    "# แต่ Python ต่างออกไป โดย Python มีหลักคือ บล็อกจะเริ่มต้นด้วยเครื่องหมาย :\n",
    "# และบรรทัดถัดไปให้เว้นระยะบรรทัด (ที่เรียกว่า Indent) 1 Tab ให้เป็นแนวเดียวกัน\n",
    "# ไปจนสุดบล็อกเช่น\n",
    "\n",
    "temp = 40\n",
    "if temp >= 40 :\n",
    "    print('On TV')  # เว้น 1 Tab หรือ IDE บางตัวจะเว้นให้ 1 Tab อัตโนมัติ\n",
    "    a=2             # เว้น 1 Tab\n",
    "print(f\"a = {a} done\")\n",
    "\n",
    "# เท่ากับว่า บล็อกคำสั่งหลัง if คือ print และ a=2 ส่วน print done อยู่นอกบล็อก\n",
    "# หากในบล็อกมีการเว้นผิด จะทำให้ Error Indent "
   ]
  }
 ],
 "metadata": {
  "kernelspec": {
   "display_name": "Python 3",
   "language": "python",
   "name": "python3"
  },
  "language_info": {
   "codemirror_mode": {
    "name": "ipython",
    "version": 3
   },
   "file_extension": ".py",
   "mimetype": "text/x-python",
   "name": "python",
   "nbconvert_exporter": "python",
   "pygments_lexer": "ipython3",
   "version": "3.8.2-final"
  }
 },
 "nbformat": 4,
 "nbformat_minor": 4
}